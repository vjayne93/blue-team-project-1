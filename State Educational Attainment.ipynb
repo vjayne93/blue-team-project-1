{
 "cells": [
  {
   "cell_type": "code",
   "execution_count": 1,
   "id": "9c4996d9",
   "metadata": {},
   "outputs": [],
   "source": [
    "import pandas as pd"
   ]
  },
  {
   "cell_type": "code",
   "execution_count": 2,
   "id": "d1817fb2",
   "metadata": {},
   "outputs": [],
   "source": [
    "# Specify the file path\n",
    "#file_path = r'C:\\Users\\samka\\upenn\\Project 1\\Katie_csv\\ACSDT1Y2022.B06009-2024-02-13T015552.csv'\n",
    "\n",
    "# Read the CSV file into a pandas DataFrame\n",
    "#df = pd.read_csv(file_path)\n",
    "\n",
    "#df  "
   ]
  },
  {
   "cell_type": "code",
   "execution_count": 3,
   "id": "1712cdd7",
   "metadata": {},
   "outputs": [
    {
     "name": "stdout",
     "output_type": "stream",
     "text": [
      "['Label (Grouping)', 'Louisiana!!Estimate', 'Minnesota!!Estimate', 'Mississippi!!Estimate', 'North Dakota!!Estimate', 'Oklahoma!!Estimate', 'South Dakota!!Estimate']\n"
     ]
    }
   ],
   "source": [
    "# Specify the file path\n",
    "file_path = r'C:\\Users\\samka\\upenn\\Project 1\\Katie_csv\\ACSDT1Y2022.B06009-2024-02-13T015552.csv'\n",
    "\n",
    "# Read the CSV file into a pandas DataFrame\n",
    "df = pd.read_csv(file_path)\n",
    "desired_columns = [col for col in df.columns if any(state in col for state in ['Label (Grouping)', 'South Dakota!!Estimate', 'Minnesota!!Estimate', 'North Dakota!!Estimate', 'Louisiana!!Estimate', 'Mississippi!!Estimate', 'Oklahoma!!Estimate'])]\n",
    "print(desired_columns)\n",
    "\n"
   ]
  },
  {
   "cell_type": "code",
   "execution_count": 4,
   "id": "e26dcbfe",
   "metadata": {},
   "outputs": [
    {
     "name": "stdout",
     "output_type": "stream",
     "text": [
      "                                  Label (Grouping) Louisiana!!Estimate  \\\n",
      "0                                           Total:           3,096,121   \n",
      "1                   Less than high school graduate             393,283   \n",
      "2      High school graduate (includes equivalency)           1,006,184   \n",
      "3               Some college or associate's degree             856,548   \n",
      "4                                Bachelor's degree             525,044   \n",
      "5                  Graduate or professional degree             315,062   \n",
      "\n",
      "  Minnesota!!Estimate Mississippi!!Estimate North Dakota!!Estimate  \\\n",
      "0           3,918,565             1,963,322                514,786   \n",
      "1             233,881               243,526                 31,578   \n",
      "2             917,132               604,163                131,842   \n",
      "3           1,233,841               629,447                187,525   \n",
      "4             995,083               297,480                115,034   \n",
      "5             538,628               188,706                 48,807   \n",
      "\n",
      "  Oklahoma!!Estimate South Dakota!!Estimate  \n",
      "0          2,661,141                605,735  \n",
      "1            277,868                 41,373  \n",
      "2            813,545                177,171  \n",
      "3            810,811                195,874  \n",
      "4            495,467                131,481  \n",
      "5            263,450                 59,836  \n"
     ]
    }
   ],
   "source": [
    "#state_columns = [col for col in df.columns if '|Estimate' in col]\n",
    "state_df = df[desired_columns]\n",
    "desired_rows_df = state_df.iloc[:6]\n",
    "print(desired_rows_df)"
   ]
  },
  {
   "cell_type": "code",
   "execution_count": 10,
   "id": "7fb763bf",
   "metadata": {},
   "outputs": [
    {
     "name": "stdout",
     "output_type": "stream",
     "text": [
      "                                             Label  Louisiana  Minnesota  \\\n",
      "0                                           Total:  3,096,121  3,918,565   \n",
      "1                   Less than high school graduate    393,283    233,881   \n",
      "2      High school graduate (includes equivalency)  1,006,184    917,132   \n",
      "3               Some college or associate's degree    856,548  1,233,841   \n",
      "4                                Bachelor's degree    525,044    995,083   \n",
      "5                  Graduate or professional degree    315,062    538,628   \n",
      "\n",
      "  Mississippi North Dakota   Oklahoma South Dakota  \n",
      "0   1,963,322      514,786  2,661,141      605,735  \n",
      "1     243,526       31,578    277,868       41,373  \n",
      "2     604,163      131,842    813,545      177,171  \n",
      "3     629,447      187,525    810,811      195,874  \n",
      "4     297,480      115,034    495,467      131,481  \n",
      "5     188,706       48,807    263,450       59,836  \n"
     ]
    }
   ],
   "source": [
    "# Define the column mapping for renaming\n",
    "column_mapping = {\n",
    "    'Label (Grouping)': 'Label',\n",
    "    'Louisiana!!Estimate': 'Louisiana',\n",
    "    'Minnesota!!Estimate': 'Minnesota',\n",
    "    'Mississippi!!Estimate': 'Mississippi',\n",
    "    'North Dakota!!Estimate': 'North Dakota',\n",
    "    'Oklahoma!!Estimate': 'Oklahoma',\n",
    "    'South Dakota!!Estimate': 'South Dakota'\n",
    "}\n",
    "\n",
    "# Select the desired columns from the DataFrame and rename them\n",
    "desired_rows_df = df[['Label (Grouping)', 'Louisiana!!Estimate', 'Minnesota!!Estimate', 'Mississippi!!Estimate', 'North Dakota!!Estimate', 'Oklahoma!!Estimate', 'South Dakota!!Estimate']].copy()\n",
    "desired_rows_df.columns = [column_mapping.get(col, col) for col in desired_rows_df.columns]\n",
    "\n",
    "# Take the first 6 rows\n",
    "desired_rows_df = desired_rows_df.iloc[:6]\n",
    "\n",
    "# Print the resulting DataFrame\n",
    "print(desired_rows_df)"
   ]
  },
  {
   "cell_type": "code",
   "execution_count": 16,
   "id": "fe0a9434",
   "metadata": {},
   "outputs": [
    {
     "name": "stdout",
     "output_type": "stream",
     "text": [
      "                                          Label Louisiana Minnesota Mississippi North Dakota  Oklahoma South Dakota\n",
      "                                         Total: 3,096,121 3,918,565   1,963,322      514,786 2,661,141      605,735\n",
      "                 Less than high school graduate   393,283   233,881     243,526       31,578   277,868       41,373\n",
      "    High school graduate (includes equivalency) 1,006,184   917,132     604,163      131,842   813,545      177,171\n",
      "             Some college or associate's degree   856,548 1,233,841     629,447      187,525   810,811      195,874\n",
      "                              Bachelor's degree   525,044   995,083     297,480      115,034   495,467      131,481\n",
      "                Graduate or professional degree   315,062   538,628     188,706       48,807   263,450       59,836\n"
     ]
    }
   ],
   "source": [
    "# Print the DataFrame to a file\n",
    "desired_rows_df.to_csv('desired_rows.csv', index=False)\n",
    "\n",
    "# Or print the DataFrame to string with specified line width\n",
    "print(desired_rows_df.to_string(index=False, line_width=2000))"
   ]
  },
  {
   "cell_type": "code",
   "execution_count": null,
   "id": "0e14e3e8",
   "metadata": {},
   "outputs": [],
   "source": []
  }
 ],
 "metadata": {
  "kernelspec": {
   "display_name": "Python 3 (ipykernel)",
   "language": "python",
   "name": "python3"
  },
  "language_info": {
   "codemirror_mode": {
    "name": "ipython",
    "version": 3
   },
   "file_extension": ".py",
   "mimetype": "text/x-python",
   "name": "python",
   "nbconvert_exporter": "python",
   "pygments_lexer": "ipython3",
   "version": "3.11.5"
  }
 },
 "nbformat": 4,
 "nbformat_minor": 5
}
