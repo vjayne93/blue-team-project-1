{
 "cells": [
  {
   "cell_type": "code",
   "execution_count": 13,
   "id": "209e260e-b7fd-461d-8038-612de0e40c55",
   "metadata": {},
   "outputs": [
    {
     "name": "stdout",
     "output_type": "stream",
     "text": [
      "State\n",
      "Louisiana      39.569355\n",
      "Mississippi    38.788710\n",
      "Oklahoma       38.145161\n",
      "Name: Value, dtype: float64\n",
      "State\n",
      "South Dakota    28.498387\n",
      "Minnesota       29.111290\n",
      "North Dakota    29.566129\n",
      "Name: Value, dtype: float64\n"
     ]
    }
   ],
   "source": [
    "import pandas as pd\n",
    "import os\n",
    "import csv\n",
    "\n",
    "csvpath = os.path.join(\"csv-data\", \"anxiety-depression-data.csv\")\n",
    "\n",
    "# Read the CSV file into a pandas DataFrame\n",
    "df = pd.read_csv(csvpath)\n",
    "\n",
    "# Filter rows where the \"state\" column is not equal to \"United States\"\n",
    "by_state_df = df[(df['State'] != 'United States') & (df['Group'] == 'By State') & (df['Indicator'] == 'Symptoms of Anxiety Disorder or Depressive Disorder')]\n",
    "\n",
    "state_mean_df = by_state_df.groupby('State')['Value'].mean()\n",
    "\n",
    "\n",
    "higher_states = state_mean_df.nlargest(3)\n",
    "lower_states = state_mean_df.nsmallest(3)\n",
    "\n",
    "print(higher_states)\n",
    "print(lower_states)"
   ]
  },
  {
   "cell_type": "code",
   "execution_count": null,
   "id": "70306ac6-c263-480d-94e8-9fdcba4286b7",
   "metadata": {},
   "outputs": [],
   "source": []
  }
 ],
 "metadata": {
  "kernelspec": {
   "display_name": "Python 3 (ipykernel)",
   "language": "python",
   "name": "python3"
  },
  "language_info": {
   "codemirror_mode": {
    "name": "ipython",
    "version": 3
   },
   "file_extension": ".py",
   "mimetype": "text/x-python",
   "name": "python",
   "nbconvert_exporter": "python",
   "pygments_lexer": "ipython3",
   "version": "3.10.13"
  }
 },
 "nbformat": 4,
 "nbformat_minor": 5
}
