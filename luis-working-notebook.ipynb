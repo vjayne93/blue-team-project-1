{
 "cells": [
  {
   "cell_type": "code",
   "execution_count": 53,
   "id": "209e260e-b7fd-461d-8038-612de0e40c55",
   "metadata": {},
   "outputs": [
    {
     "name": "stdout",
     "output_type": "stream",
     "text": [
      "States with Highest Level of Anxiety and Depression\n",
      "     Total Avg     2020 Avg   2021 Avg     2022 Avg       2023 Avg\n",
      "0    Louisiana    Louisiana  Louisiana  Mississippi    Mississippi\n",
      "1  Mississippi       Nevada   Oklahoma    Louisiana      Louisiana\n",
      "2     Oklahoma  Mississippi   Arkansas     Oklahoma  West Virginia\n",
      " \n",
      "--------------------- \n",
      " \n",
      "States with Lowest Level of Anxiety and Depression\n",
      "      Total Avg      2020 Avg      2021 Avg      2022 Avg  \\\n",
      "0  South Dakota  North Dakota  South Dakota     Minnesota   \n",
      "1     Minnesota  South Dakota     Minnesota  South Dakota   \n",
      "2  North Dakota     Wisconsin     Wisconsin      Delaware   \n",
      "\n",
      "               2023 Avg  \n",
      "0               Vermont  \n",
      "1             Minnesota  \n",
      "2  District of Columbia  \n"
     ]
    },
    {
     "name": "stderr",
     "output_type": "stream",
     "text": [
      "/var/folders/0k/5q4qk6494fv19cyy13rpg8hm0000gn/T/ipykernel_40813/3888566279.py:14: SettingWithCopyWarning: \n",
      "A value is trying to be set on a copy of a slice from a DataFrame.\n",
      "Try using .loc[row_indexer,col_indexer] = value instead\n",
      "\n",
      "See the caveats in the documentation: https://pandas.pydata.org/pandas-docs/stable/user_guide/indexing.html#returning-a-view-versus-a-copy\n",
      "  by_state_df['date_column'] = pd.to_datetime(by_state_df['Time Period Start Date'], format='%m/%d/%Y')\n",
      "/var/folders/0k/5q4qk6494fv19cyy13rpg8hm0000gn/T/ipykernel_40813/3888566279.py:15: SettingWithCopyWarning: \n",
      "A value is trying to be set on a copy of a slice from a DataFrame.\n",
      "Try using .loc[row_indexer,col_indexer] = value instead\n",
      "\n",
      "See the caveats in the documentation: https://pandas.pydata.org/pandas-docs/stable/user_guide/indexing.html#returning-a-view-versus-a-copy\n",
      "  by_state_df['Year'] = by_state_df['date_column'].dt.year\n"
     ]
    }
   ],
   "source": [
    "import pandas as pd\n",
    "import os\n",
    "import csv\n",
    "\n",
    "csvpath = os.path.join(\"csv-data\", \"anxiety-depression-data.csv\")\n",
    "\n",
    "# Read the CSV file into a pandas DataFrame\n",
    "df = pd.read_csv(csvpath)\n",
    "\n",
    "# Filter rows where the \"state\" column is not equal to \"United States\"\n",
    "by_state_df = df[(df['State'] != 'United States') & \n",
    "                (df['Group'] == 'By State') & \n",
    "                (df['Indicator'] == 'Symptoms of Anxiety Disorder or Depressive Disorder')]\n",
    "by_state_df['date_column'] = pd.to_datetime(by_state_df['Time Period Start Date'], format='%m/%d/%Y')\n",
    "by_state_df['Year'] = by_state_df['date_column'].dt.year\n",
    "\n",
    "state_mean_df = by_state_df.groupby('State')['Value'].mean()\n",
    "higher_states = state_mean_df.nlargest(3)\n",
    "lower_states = state_mean_df.nsmallest(3)\n",
    "\n",
    "yearly_state_mean_df = by_state_df.groupby(['State', 'Year'])['Value'].mean().reset_index()\n",
    "state_mean_2020_df = yearly_state_mean_df.loc[yearly_state_mean_df['Year'] == 2020].set_index('State')\n",
    "state_mean_2021_df = yearly_state_mean_df.loc[yearly_state_mean_df['Year'] == 2021].set_index('State')\n",
    "state_mean_2022_df = yearly_state_mean_df.loc[yearly_state_mean_df['Year'] == 2022].set_index('State')\n",
    "state_mean_2023_df = yearly_state_mean_df.loc[yearly_state_mean_df['Year'] == 2023].set_index('State')\n",
    "higher_states_2020 = state_mean_2020_df['Value'].nlargest(3)\n",
    "lower_states_2020 = state_mean_2020_df['Value'].nsmallest(3)\n",
    "higher_states_2021 = state_mean_2021_df['Value'].nlargest(3)\n",
    "lower_states_2021 = state_mean_2021_df['Value'].nsmallest(3)\n",
    "higher_states_2022 = state_mean_2022_df['Value'].nlargest(3)\n",
    "lower_states_2022 = state_mean_2022_df['Value'].nsmallest(3)\n",
    "higher_states_2023 = state_mean_2023_df['Value'].nlargest(3)\n",
    "lower_states_2023 = state_mean_2023_df['Value'].nsmallest(3)\n",
    "\n",
    "highest_states_tot = pd.DataFrame({'Total Avg': higher_states.index,\n",
    "                     '2020 Avg': higher_states_2020.index,\n",
    "                     '2021 Avg': higher_states_2021.index,\n",
    "                     '2022 Avg': higher_states_2022.index,\n",
    "                     '2023 Avg': higher_states_2023.index})\n",
    "lowest_states_tot = pd.DataFrame({'Total Avg': lower_states.index,\n",
    "                     '2020 Avg': lower_states_2020.index,\n",
    "                     '2021 Avg': lower_states_2021.index,\n",
    "                     '2022 Avg': lower_states_2022.index,\n",
    "                     '2023 Avg': lower_states_2023.index})\n",
    "print('States with Highest Level of Anxiety and Depression')\n",
    "print(highest_states_tot)\n",
    "print(' ')\n",
    "print('--------------------- ')\n",
    "print(' ')\n",
    "print('States with Lowest Level of Anxiety and Depression')\n",
    "print(lowest_states_tot)\n"
   ]
  },
  {
   "cell_type": "code",
   "execution_count": 54,
   "id": "70306ac6-c263-480d-94e8-9fdcba4286b7",
   "metadata": {},
   "outputs": [],
   "source": [
    "#Import data sets\n",
    "unin_2019_path =  os.path.join('csv-data', '2019-unisured-pop-data.csv')\n",
    "unin_2021_path =  os.path.join('csv-data', '2021-unisured-pop-data.csv')\n",
    "unin_2022_path =  os.path.join('csv-data', '2022-unisured-pop-data.csv')\n",
    "hpsa_mental_path =  os.path.join('csv-data', 'mental_health_hpsa.csv')\n",
    "hpsa_primary_path =  os.path.join('csv-data', 'primary_care_hpsa.csv')\n",
    "med_enr_path =  os.path.join('csv-data', 'medicaid-chip-data.csv')\n",
    "\n",
    "unin_2019_full_df =  pd.read_csv(unin_2019_path)\n",
    "unin_2021_full_df =  pd.read_csv(unin_2021_path)\n",
    "unin_2022_full_df =  pd.read_csv(unin_2022_path)\n",
    "hpsa_mental_full_df =  pd.read_csv(hpsa_mental_path)\n",
    "hpsa_primary_full_df =  pd.read_csv(hpsa_primary_path)\n",
    "med_enr_full_df =  pd.read_csv(med_enr_path)\n",
    "\n",
    "\n"
   ]
  }
 ],
 "metadata": {
  "kernelspec": {
   "display_name": "Python 3 (ipykernel)",
   "language": "python",
   "name": "python3"
  },
  "language_info": {
   "codemirror_mode": {
    "name": "ipython",
    "version": 3
   },
   "file_extension": ".py",
   "mimetype": "text/x-python",
   "name": "python",
   "nbconvert_exporter": "python",
   "pygments_lexer": "ipython3",
   "version": "3.10.13"
  }
 },
 "nbformat": 4,
 "nbformat_minor": 5
}
